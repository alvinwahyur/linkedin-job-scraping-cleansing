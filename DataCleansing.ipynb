{
 "cells": [
  {
   "cell_type": "markdown",
   "metadata": {},
   "source": [
    "# Data Understanding and Data Cleansing"
   ]
  },
  {
   "cell_type": "markdown",
   "metadata": {},
   "source": [
    "In this part, I will try to see:\n",
    "\n",
    "- information of data\n",
    "- the meaning of each fields, if visible\n",
    "- the rules of each fields, if visible\n",
    "- data relevancy\n",
    "- role distribution\n",
    "This is a dataset that contains the first 998 LinkedIn job lists under the keywords \"Data Analyst\" located in \"Indonesia\""
   ]
  },
  {
   "cell_type": "markdown",
   "metadata": {},
   "source": [
    "### 1. Import package"
   ]
  },
  {
   "cell_type": "code",
   "execution_count": 1,
   "metadata": {},
   "outputs": [],
   "source": [
    "import pandas as pd\n",
    "import numpy as np\n",
    "import seaborn as sns\n",
    "import matplotlib.pyplot as plt\n",
    "import time\n",
    "from datetime import datetime as dt\n",
    "import warnings"
   ]
  },
  {
   "cell_type": "markdown",
   "metadata": {},
   "source": [
    "### 2. Read file excel"
   ]
  },
  {
   "cell_type": "code",
   "execution_count": 2,
   "metadata": {},
   "outputs": [
    {
     "data": {
      "text/html": [
       "<div>\n",
       "<style scoped>\n",
       "    .dataframe tbody tr th:only-of-type {\n",
       "        vertical-align: middle;\n",
       "    }\n",
       "\n",
       "    .dataframe tbody tr th {\n",
       "        vertical-align: top;\n",
       "    }\n",
       "\n",
       "    .dataframe thead th {\n",
       "        text-align: right;\n",
       "    }\n",
       "</style>\n",
       "<table border=\"1\" class=\"dataframe\">\n",
       "  <thead>\n",
       "    <tr style=\"text-align: right;\">\n",
       "      <th></th>\n",
       "      <th>Date</th>\n",
       "      <th>Company</th>\n",
       "      <th>Title</th>\n",
       "      <th>Location</th>\n",
       "      <th>Description</th>\n",
       "      <th>Level</th>\n",
       "      <th>Type</th>\n",
       "      <th>Function</th>\n",
       "      <th>Industry</th>\n",
       "    </tr>\n",
       "  </thead>\n",
       "  <tbody>\n",
       "    <tr>\n",
       "      <th>0</th>\n",
       "      <td>2023-10-25</td>\n",
       "      <td>Gojek</td>\n",
       "      <td>Data Analyst - Central Data Platform</td>\n",
       "      <td>Jakarta, Jakarta, Indonesia</td>\n",
       "      <td>About The Role\\n\\nThe role is Associate Data A...</td>\n",
       "      <td>Entry level</td>\n",
       "      <td>Full-time</td>\n",
       "      <td>Information Technology</td>\n",
       "      <td>Technology, Information and Internet</td>\n",
       "    </tr>\n",
       "    <tr>\n",
       "      <th>1</th>\n",
       "      <td>2023-10-25</td>\n",
       "      <td>Gojek</td>\n",
       "      <td>Data Analyst - Transport (Jakarta)</td>\n",
       "      <td>Jakarta, Jakarta, Indonesia</td>\n",
       "      <td>If you’re a data analyst at heart, this role i...</td>\n",
       "      <td>Entry level</td>\n",
       "      <td>Full-time</td>\n",
       "      <td>Information Technology</td>\n",
       "      <td>Technology, Information and Internet</td>\n",
       "    </tr>\n",
       "    <tr>\n",
       "      <th>2</th>\n",
       "      <td>2023-10-05</td>\n",
       "      <td>JULO</td>\n",
       "      <td>Data Analyst</td>\n",
       "      <td>Jakarta, Indonesia</td>\n",
       "      <td>We are looking for Analysts that will turn dat...</td>\n",
       "      <td>Associate</td>\n",
       "      <td>Full-time</td>\n",
       "      <td>Information Technology and Analyst</td>\n",
       "      <td>Financial Services</td>\n",
       "    </tr>\n",
       "  </tbody>\n",
       "</table>\n",
       "</div>"
      ],
      "text/plain": [
       "         Date Company                                 Title  \\\n",
       "0  2023-10-25   Gojek  Data Analyst - Central Data Platform   \n",
       "1  2023-10-25   Gojek    Data Analyst - Transport (Jakarta)   \n",
       "2  2023-10-05    JULO                          Data Analyst   \n",
       "\n",
       "                      Location  \\\n",
       "0  Jakarta, Jakarta, Indonesia   \n",
       "1  Jakarta, Jakarta, Indonesia   \n",
       "2           Jakarta, Indonesia   \n",
       "\n",
       "                                         Description        Level       Type  \\\n",
       "0  About The Role\\n\\nThe role is Associate Data A...  Entry level  Full-time   \n",
       "1  If you’re a data analyst at heart, this role i...  Entry level  Full-time   \n",
       "2  We are looking for Analysts that will turn dat...    Associate  Full-time   \n",
       "\n",
       "                             Function                              Industry  \n",
       "0              Information Technology  Technology, Information and Internet  \n",
       "1              Information Technology  Technology, Information and Internet  \n",
       "2  Information Technology and Analyst                    Financial Services  "
      ]
     },
     "execution_count": 2,
     "metadata": {},
     "output_type": "execute_result"
    }
   ],
   "source": [
    "warnings.filterwarnings(\"ignore\")\n",
    "df = pd.read_excel(\"DataScraping.xlsx\")\n",
    "df.head(3)"
   ]
  },
  {
   "cell_type": "code",
   "execution_count": 3,
   "metadata": {},
   "outputs": [
    {
     "name": "stdout",
     "output_type": "stream",
     "text": [
      "<class 'pandas.core.frame.DataFrame'>\n",
      "RangeIndex: 998 entries, 0 to 997\n",
      "Data columns (total 9 columns):\n",
      " #   Column       Non-Null Count  Dtype \n",
      "---  ------       --------------  ----- \n",
      " 0   Date         998 non-null    object\n",
      " 1   Company      998 non-null    object\n",
      " 2   Title        998 non-null    object\n",
      " 3   Location     998 non-null    object\n",
      " 4   Description  998 non-null    object\n",
      " 5   Level        998 non-null    object\n",
      " 6   Type         921 non-null    object\n",
      " 7   Function     921 non-null    object\n",
      " 8   Industry     898 non-null    object\n",
      "dtypes: object(9)\n",
      "memory usage: 70.3+ KB\n"
     ]
    }
   ],
   "source": [
    "df.info()"
   ]
  },
  {
   "cell_type": "markdown",
   "metadata": {},
   "source": [
    "### 3. Data cleansing"
   ]
  },
  {
   "cell_type": "markdown",
   "metadata": {},
   "source": [
    "#### Change Dtype object to datetime"
   ]
  },
  {
   "cell_type": "code",
   "execution_count": 4,
   "metadata": {},
   "outputs": [
    {
     "name": "stdout",
     "output_type": "stream",
     "text": [
      "<class 'pandas.core.frame.DataFrame'>\n",
      "RangeIndex: 998 entries, 0 to 997\n",
      "Data columns (total 9 columns):\n",
      " #   Column       Non-Null Count  Dtype         \n",
      "---  ------       --------------  -----         \n",
      " 0   Date         998 non-null    datetime64[ns]\n",
      " 1   Company      998 non-null    object        \n",
      " 2   Title        998 non-null    object        \n",
      " 3   Location     998 non-null    object        \n",
      " 4   Description  998 non-null    object        \n",
      " 5   Level        998 non-null    object        \n",
      " 6   Type         921 non-null    object        \n",
      " 7   Function     921 non-null    object        \n",
      " 8   Industry     898 non-null    object        \n",
      "dtypes: datetime64[ns](1), object(8)\n",
      "memory usage: 70.3+ KB\n"
     ]
    }
   ],
   "source": [
    "df['Date'] = pd.to_datetime(df['Date'])\n",
    "df.info()"
   ]
  },
  {
   "cell_type": "markdown",
   "metadata": {},
   "source": [
    "Split City, Province, Country on Location\n",
    "- 1 field = [city]/[country]\n",
    "- 2 filed = [province, country]\n",
    "- 3 field = [city, province, country]"
   ]
  },
  {
   "cell_type": "code",
   "execution_count": 5,
   "metadata": {},
   "outputs": [
    {
     "name": "stdout",
     "output_type": "stream",
     "text": [
      "done\n"
     ]
    }
   ],
   "source": [
    "City = []\n",
    "Province = []\n",
    "#Country = []\n",
    "for row in df['Location']:\n",
    "    x = row.split(\",\") #convert each element in the tuple to list\n",
    "    n_element = len(x) #check how many element in the field (list length)\n",
    "#    print(n_element) \n",
    "    if n_element == 3:\n",
    "        City.append(x[0]) #take the first element as city\n",
    "        Province.append(x[1]) #take the second element as province\n",
    "#        Country.append(x[2])\n",
    "    elif n_element == 2:\n",
    "        City.append(np.nan)\n",
    "        Province.append(x[0])\n",
    "#        Country.append(x[1])\n",
    "    else:\n",
    "        if x[0] == 'Indonesia':\n",
    "#        if n_element == 1:\n",
    "            City.append(np.nan)\n",
    "            Province.append(np.nan)\n",
    "#            Country.append(x[0])\n",
    "        else:\n",
    "            City.append(x[0])\n",
    "            Province.append(np.nan)\n",
    "print('done')"
   ]
  },
  {
   "cell_type": "code",
   "execution_count": 6,
   "metadata": {},
   "outputs": [
    {
     "name": "stdout",
     "output_type": "stream",
     "text": [
      "Done\n"
     ]
    },
    {
     "data": {
      "text/html": [
       "<div>\n",
       "<style scoped>\n",
       "    .dataframe tbody tr th:only-of-type {\n",
       "        vertical-align: middle;\n",
       "    }\n",
       "\n",
       "    .dataframe tbody tr th {\n",
       "        vertical-align: top;\n",
       "    }\n",
       "\n",
       "    .dataframe thead th {\n",
       "        text-align: right;\n",
       "    }\n",
       "</style>\n",
       "<table border=\"1\" class=\"dataframe\">\n",
       "  <thead>\n",
       "    <tr style=\"text-align: right;\">\n",
       "      <th></th>\n",
       "      <th>Date</th>\n",
       "      <th>Company</th>\n",
       "      <th>Title</th>\n",
       "      <th>Location</th>\n",
       "      <th>City</th>\n",
       "      <th>Province</th>\n",
       "      <th>Description</th>\n",
       "      <th>Level</th>\n",
       "      <th>Type</th>\n",
       "      <th>Function</th>\n",
       "      <th>Industry</th>\n",
       "    </tr>\n",
       "  </thead>\n",
       "  <tbody>\n",
       "    <tr>\n",
       "      <th>0</th>\n",
       "      <td>2023-10-25</td>\n",
       "      <td>Gojek</td>\n",
       "      <td>Data Analyst - Central Data Platform</td>\n",
       "      <td>Jakarta, Jakarta, Indonesia</td>\n",
       "      <td>Jakarta</td>\n",
       "      <td>Jakarta</td>\n",
       "      <td>About The Role\\n\\nThe role is Associate Data A...</td>\n",
       "      <td>Entry level</td>\n",
       "      <td>Full-time</td>\n",
       "      <td>Information Technology</td>\n",
       "      <td>Technology, Information and Internet</td>\n",
       "    </tr>\n",
       "    <tr>\n",
       "      <th>1</th>\n",
       "      <td>2023-10-25</td>\n",
       "      <td>Gojek</td>\n",
       "      <td>Data Analyst - Transport (Jakarta)</td>\n",
       "      <td>Jakarta, Jakarta, Indonesia</td>\n",
       "      <td>Jakarta</td>\n",
       "      <td>Jakarta</td>\n",
       "      <td>If you’re a data analyst at heart, this role i...</td>\n",
       "      <td>Entry level</td>\n",
       "      <td>Full-time</td>\n",
       "      <td>Information Technology</td>\n",
       "      <td>Technology, Information and Internet</td>\n",
       "    </tr>\n",
       "    <tr>\n",
       "      <th>2</th>\n",
       "      <td>2023-10-05</td>\n",
       "      <td>JULO</td>\n",
       "      <td>Data Analyst</td>\n",
       "      <td>Jakarta, Indonesia</td>\n",
       "      <td>NaN</td>\n",
       "      <td>Jakarta</td>\n",
       "      <td>We are looking for Analysts that will turn dat...</td>\n",
       "      <td>Associate</td>\n",
       "      <td>Full-time</td>\n",
       "      <td>Information Technology and Analyst</td>\n",
       "      <td>Financial Services</td>\n",
       "    </tr>\n",
       "    <tr>\n",
       "      <th>3</th>\n",
       "      <td>2023-10-24</td>\n",
       "      <td>Jiva</td>\n",
       "      <td>Junior Data Analyst</td>\n",
       "      <td>Semarang, Central Java, Indonesia</td>\n",
       "      <td>Semarang</td>\n",
       "      <td>Central Java</td>\n",
       "      <td>General Overview\\n\\nEvaluate and analyze poten...</td>\n",
       "      <td>Mid-Senior level</td>\n",
       "      <td>Contract</td>\n",
       "      <td>Other</td>\n",
       "      <td>Technology, Information and Internet</td>\n",
       "    </tr>\n",
       "    <tr>\n",
       "      <th>4</th>\n",
       "      <td>2023-03-29</td>\n",
       "      <td>Amar Bank</td>\n",
       "      <td>Data Analyst</td>\n",
       "      <td>Jakarta, Jakarta, Indonesia</td>\n",
       "      <td>Jakarta</td>\n",
       "      <td>Jakarta</td>\n",
       "      <td>Who are we?\\n\\n\\n\\n\\nAmar Bank is one of the m...</td>\n",
       "      <td>Not Applicable</td>\n",
       "      <td>Full-time</td>\n",
       "      <td>Information Technology</td>\n",
       "      <td>Transportation, Logistics, Supply Chain and St...</td>\n",
       "    </tr>\n",
       "  </tbody>\n",
       "</table>\n",
       "</div>"
      ],
      "text/plain": [
       "        Date    Company                                 Title  \\\n",
       "0 2023-10-25      Gojek  Data Analyst - Central Data Platform   \n",
       "1 2023-10-25      Gojek    Data Analyst - Transport (Jakarta)   \n",
       "2 2023-10-05       JULO                          Data Analyst   \n",
       "3 2023-10-24       Jiva                   Junior Data Analyst   \n",
       "4 2023-03-29  Amar Bank                          Data Analyst   \n",
       "\n",
       "                            Location      City       Province  \\\n",
       "0        Jakarta, Jakarta, Indonesia   Jakarta        Jakarta   \n",
       "1        Jakarta, Jakarta, Indonesia   Jakarta        Jakarta   \n",
       "2                 Jakarta, Indonesia       NaN        Jakarta   \n",
       "3  Semarang, Central Java, Indonesia  Semarang   Central Java   \n",
       "4        Jakarta, Jakarta, Indonesia   Jakarta        Jakarta   \n",
       "\n",
       "                                         Description             Level  \\\n",
       "0  About The Role\\n\\nThe role is Associate Data A...       Entry level   \n",
       "1  If you’re a data analyst at heart, this role i...       Entry level   \n",
       "2  We are looking for Analysts that will turn dat...         Associate   \n",
       "3  General Overview\\n\\nEvaluate and analyze poten...  Mid-Senior level   \n",
       "4  Who are we?\\n\\n\\n\\n\\nAmar Bank is one of the m...    Not Applicable   \n",
       "\n",
       "        Type                            Function  \\\n",
       "0  Full-time              Information Technology   \n",
       "1  Full-time              Information Technology   \n",
       "2  Full-time  Information Technology and Analyst   \n",
       "3   Contract                               Other   \n",
       "4  Full-time              Information Technology   \n",
       "\n",
       "                                            Industry  \n",
       "0               Technology, Information and Internet  \n",
       "1               Technology, Information and Internet  \n",
       "2                                 Financial Services  \n",
       "3               Technology, Information and Internet  \n",
       "4  Transportation, Logistics, Supply Chain and St...  "
      ]
     },
     "execution_count": 6,
     "metadata": {},
     "output_type": "execute_result"
    }
   ],
   "source": [
    "#Insert new columns after location. location starts from 0.\n",
    "df.insert(4, 'City', City)\n",
    "df.insert(5, 'Province', Province)\n",
    "#df.insert(6, 'Country', Country)\n",
    "print('Done')\n",
    "df.head()"
   ]
  },
  {
   "cell_type": "markdown",
   "metadata": {},
   "source": [
    "#### Remove space"
   ]
  },
  {
   "cell_type": "code",
   "execution_count": 7,
   "metadata": {},
   "outputs": [
    {
     "name": "stdout",
     "output_type": "stream",
     "text": [
      "done\n"
     ]
    }
   ],
   "source": [
    "df['Province']= df['Province'].str.lstrip()\n",
    "df['Description']= df['Description'].str.lstrip()\n",
    "df['Level']= df['Level'].str.lstrip()\n",
    "df['Level']= df['Level'].str.rstrip()\n",
    "df['Type']= df['Type'].str.lstrip()\n",
    "df['Type']= df['Type'].str.rstrip()\n",
    "df['Function']= df['Function'].str.lstrip()\n",
    "df['Industry']= df['Industry'].str.lstrip()\n",
    "print('done')"
   ]
  },
  {
   "cell_type": "markdown",
   "metadata": {},
   "source": [
    "#### Fix content of job level and type"
   ]
  },
  {
   "cell_type": "markdown",
   "metadata": {},
   "source": [
    "Turns out, when a job post doesn't have any Job level but has Job type, the content in the field 'Type' is shifted into 'Level'. Upon further inspection, this happened because we find the HTML element by XPATH, which relies on the order of the element. So when the element in the first order is empty, the second element will automatically fill the first one.\n",
    "\n",
    "When there are Type contents in the Level field, we can safely assume that the job does not have seniority Level listed. For all rows where Level is Full-time/part-time/internship/temporary/contract, we can shift the content into Type field."
   ]
  },
  {
   "cell_type": "code",
   "execution_count": 8,
   "metadata": {},
   "outputs": [
    {
     "data": {
      "text/plain": [
       "array(['Full-time', 'Contract', 'Internship', nan, 'Part-time',\n",
       "       'Temporary'], dtype=object)"
      ]
     },
     "execution_count": 8,
     "metadata": {},
     "output_type": "execute_result"
    }
   ],
   "source": [
    "df['Type'].unique()"
   ]
  },
  {
   "cell_type": "code",
   "execution_count": 9,
   "metadata": {},
   "outputs": [
    {
     "name": "stdout",
     "output_type": "stream",
     "text": [
      "done\n"
     ]
    }
   ],
   "source": [
    "fix_list = ['Full-time', 'Contract', 'Internship', 'Part-time', 'Temporary']\n",
    "new_level = []\n",
    "new_type = []\n",
    "length = len(df['Level'])\n",
    "df_level = df['Level']\n",
    "df_type = df['Type']\n",
    "for row in range(length):\n",
    "    if str(df_level.iloc[row]) in fix_list:\n",
    "        new_level.append(np.nan)\n",
    "        new_type.append(df_level.iloc[row]) #iloc = integer location. Function to select row by its index location\n",
    "    else:\n",
    "        new_level.append(df_level.iloc[row])\n",
    "        new_type.append(df_type.iloc[row])\n",
    "#Insert new columns after location. location starts from 0.\n",
    "df['Level'] = new_level\n",
    "df['Type'] = new_type\n",
    "print('done')"
   ]
  },
  {
   "cell_type": "markdown",
   "metadata": {},
   "source": [
    "#### Categorize and remove unrelated Jobs"
   ]
  },
  {
   "cell_type": "code",
   "execution_count": 10,
   "metadata": {},
   "outputs": [
    {
     "data": {
      "text/plain": [
       "Title\n",
       "Data Engineer                        38\n",
       "Business Analyst                     28\n",
       "Data Analyst                         25\n",
       "Python Developer                     20\n",
       "MS Engineer (L2)                     17\n",
       "                                     ..\n",
       "Webmaster                             1\n",
       "Junior Software Engineer, Backend     1\n",
       "System Integrator                     1\n",
       "Applications Developer                1\n",
       "Back-End Engineer (Yogyakarta)        1\n",
       "Name: count, Length: 612, dtype: int64"
      ]
     },
     "execution_count": 10,
     "metadata": {},
     "output_type": "execute_result"
    }
   ],
   "source": [
    "df['Title'].value_counts()"
   ]
  },
  {
   "cell_type": "markdown",
   "metadata": {},
   "source": [
    "It might be useful to categorize them into more general job name for the sake of filtering simplicity. So when we want to work with Data Analyst jobs only, we can easily remove the unrelated jobs more easily later on.\n",
    "\n",
    "By quickly looking at our data, if the job title contains the words:\n",
    "- Data Analyst\n",
    "- Data Engineer\n",
    "- Business Analyst\n",
    "- Python Developer\n",
    "- MS Engineer (L2)\n",
    "- Machine Learning\n",
    "- Aritificial Intelligence\n",
    "- AI/ML\n",
    "- ML\n",
    "- AI Engineer\n",
    "\n",
    "we can categorize them into Data Analyst. Otherwise, we will mark them as 'Others'"
   ]
  },
  {
   "cell_type": "code",
   "execution_count": 11,
   "metadata": {},
   "outputs": [
    {
     "name": "stdout",
     "output_type": "stream",
     "text": [
      "done\n"
     ]
    }
   ],
   "source": [
    "df['Title'] = df['Title'].str.lower() #convert all values in Title to lowercase\n",
    "keyword_list= ['data analyst', 'data engineer', 'machine learning', 'business analyst', \n",
    "               'python developer', 'MS Engineer (L2)', 'Aritificial Intelligence', 'ai/ml', 'ml', 'ai engineer']\n",
    "swe_list = ['software','software engineer', 'programmer', 'full stack', 'application', 'developer']        \n",
    "fe_list = ['front-end', 'front end', 'frontend', 'frontend developer']\n",
    "be_list = ['back end', 'back-end', 'backend developer']\n",
    "length = len(df['Title'])\n",
    "df_title = df['Title']\n",
    "title_category = []\n",
    "for row in range(length):\n",
    "    if any(element in str(df_title.iloc[row]) for element in keyword_list)==True:\n",
    "        title_category.append('Data Analyst')\n",
    "    elif any(element in str(df_title.iloc[row]) for element in swe_list)==True:\n",
    "        title_category.append('Software Engineer')\n",
    "    elif any(element in str(df_title.iloc[row]) for element in fe_list)==True:\n",
    "        title_category.append('Front-End Engineer')\n",
    "    elif any(element in str(df_title.iloc[row]) for element in be_list)==True:\n",
    "        title_category.append('Back-End Engineer')\n",
    "    else:\n",
    "        title_category.append('Others')\n",
    "\n",
    "#Insert new columns after location. location starts from 0.\n",
    "df['Title Category'] = title_category\n",
    "\n",
    "print('done')"
   ]
  },
  {
   "cell_type": "code",
   "execution_count": 12,
   "metadata": {},
   "outputs": [
    {
     "data": {
      "text/plain": [
       "Title Category\n",
       "Others                424\n",
       "Data Analyst          281\n",
       "Software Engineer     274\n",
       "Back-End Engineer      12\n",
       "Front-End Engineer      7\n",
       "Name: count, dtype: int64"
      ]
     },
     "execution_count": 12,
     "metadata": {},
     "output_type": "execute_result"
    }
   ],
   "source": [
    "df['Title Category'].value_counts()"
   ]
  },
  {
   "cell_type": "code",
   "execution_count": 13,
   "metadata": {},
   "outputs": [
    {
     "data": {
      "text/html": [
       "<div>\n",
       "<style scoped>\n",
       "    .dataframe tbody tr th:only-of-type {\n",
       "        vertical-align: middle;\n",
       "    }\n",
       "\n",
       "    .dataframe tbody tr th {\n",
       "        vertical-align: top;\n",
       "    }\n",
       "\n",
       "    .dataframe thead th {\n",
       "        text-align: right;\n",
       "    }\n",
       "</style>\n",
       "<table border=\"1\" class=\"dataframe\">\n",
       "  <thead>\n",
       "    <tr style=\"text-align: right;\">\n",
       "      <th></th>\n",
       "      <th>Date</th>\n",
       "      <th>Company</th>\n",
       "      <th>Title</th>\n",
       "      <th>Location</th>\n",
       "      <th>City</th>\n",
       "      <th>Province</th>\n",
       "      <th>Description</th>\n",
       "      <th>Level</th>\n",
       "      <th>Type</th>\n",
       "      <th>Function</th>\n",
       "      <th>Industry</th>\n",
       "      <th>Title Category</th>\n",
       "    </tr>\n",
       "  </thead>\n",
       "  <tbody>\n",
       "    <tr>\n",
       "      <th>0</th>\n",
       "      <td>2023-10-25</td>\n",
       "      <td>Gojek</td>\n",
       "      <td>data analyst - central data platform</td>\n",
       "      <td>Jakarta, Jakarta, Indonesia</td>\n",
       "      <td>Jakarta</td>\n",
       "      <td>Jakarta</td>\n",
       "      <td>About The Role\\n\\nThe role is Associate Data A...</td>\n",
       "      <td>Entry level</td>\n",
       "      <td>Full-time</td>\n",
       "      <td>Information Technology</td>\n",
       "      <td>Technology, Information and Internet</td>\n",
       "      <td>Data Analyst</td>\n",
       "    </tr>\n",
       "    <tr>\n",
       "      <th>1</th>\n",
       "      <td>2023-10-25</td>\n",
       "      <td>Gojek</td>\n",
       "      <td>data analyst - transport (jakarta)</td>\n",
       "      <td>Jakarta, Jakarta, Indonesia</td>\n",
       "      <td>Jakarta</td>\n",
       "      <td>Jakarta</td>\n",
       "      <td>If you’re a data analyst at heart, this role i...</td>\n",
       "      <td>Entry level</td>\n",
       "      <td>Full-time</td>\n",
       "      <td>Information Technology</td>\n",
       "      <td>Technology, Information and Internet</td>\n",
       "      <td>Data Analyst</td>\n",
       "    </tr>\n",
       "    <tr>\n",
       "      <th>2</th>\n",
       "      <td>2023-10-05</td>\n",
       "      <td>JULO</td>\n",
       "      <td>data analyst</td>\n",
       "      <td>Jakarta, Indonesia</td>\n",
       "      <td>NaN</td>\n",
       "      <td>Jakarta</td>\n",
       "      <td>We are looking for Analysts that will turn dat...</td>\n",
       "      <td>Associate</td>\n",
       "      <td>Full-time</td>\n",
       "      <td>Information Technology and Analyst</td>\n",
       "      <td>Financial Services</td>\n",
       "      <td>Data Analyst</td>\n",
       "    </tr>\n",
       "    <tr>\n",
       "      <th>3</th>\n",
       "      <td>2023-10-24</td>\n",
       "      <td>Jiva</td>\n",
       "      <td>junior data analyst</td>\n",
       "      <td>Semarang, Central Java, Indonesia</td>\n",
       "      <td>Semarang</td>\n",
       "      <td>Central Java</td>\n",
       "      <td>General Overview\\n\\nEvaluate and analyze poten...</td>\n",
       "      <td>Mid-Senior level</td>\n",
       "      <td>Contract</td>\n",
       "      <td>Other</td>\n",
       "      <td>Technology, Information and Internet</td>\n",
       "      <td>Data Analyst</td>\n",
       "    </tr>\n",
       "    <tr>\n",
       "      <th>4</th>\n",
       "      <td>2023-03-29</td>\n",
       "      <td>Amar Bank</td>\n",
       "      <td>data analyst</td>\n",
       "      <td>Jakarta, Jakarta, Indonesia</td>\n",
       "      <td>Jakarta</td>\n",
       "      <td>Jakarta</td>\n",
       "      <td>Who are we?\\n\\n\\n\\n\\nAmar Bank is one of the m...</td>\n",
       "      <td>Not Applicable</td>\n",
       "      <td>Full-time</td>\n",
       "      <td>Information Technology</td>\n",
       "      <td>Transportation, Logistics, Supply Chain and St...</td>\n",
       "      <td>Data Analyst</td>\n",
       "    </tr>\n",
       "  </tbody>\n",
       "</table>\n",
       "</div>"
      ],
      "text/plain": [
       "        Date    Company                                 Title  \\\n",
       "0 2023-10-25      Gojek  data analyst - central data platform   \n",
       "1 2023-10-25      Gojek    data analyst - transport (jakarta)   \n",
       "2 2023-10-05       JULO                          data analyst   \n",
       "3 2023-10-24       Jiva                   junior data analyst   \n",
       "4 2023-03-29  Amar Bank                          data analyst   \n",
       "\n",
       "                            Location      City      Province  \\\n",
       "0        Jakarta, Jakarta, Indonesia   Jakarta       Jakarta   \n",
       "1        Jakarta, Jakarta, Indonesia   Jakarta       Jakarta   \n",
       "2                 Jakarta, Indonesia       NaN       Jakarta   \n",
       "3  Semarang, Central Java, Indonesia  Semarang  Central Java   \n",
       "4        Jakarta, Jakarta, Indonesia   Jakarta       Jakarta   \n",
       "\n",
       "                                         Description             Level  \\\n",
       "0  About The Role\\n\\nThe role is Associate Data A...       Entry level   \n",
       "1  If you’re a data analyst at heart, this role i...       Entry level   \n",
       "2  We are looking for Analysts that will turn dat...         Associate   \n",
       "3  General Overview\\n\\nEvaluate and analyze poten...  Mid-Senior level   \n",
       "4  Who are we?\\n\\n\\n\\n\\nAmar Bank is one of the m...    Not Applicable   \n",
       "\n",
       "        Type                            Function  \\\n",
       "0  Full-time              Information Technology   \n",
       "1  Full-time              Information Technology   \n",
       "2  Full-time  Information Technology and Analyst   \n",
       "3   Contract                               Other   \n",
       "4  Full-time              Information Technology   \n",
       "\n",
       "                                            Industry Title Category  \n",
       "0               Technology, Information and Internet   Data Analyst  \n",
       "1               Technology, Information and Internet   Data Analyst  \n",
       "2                                 Financial Services   Data Analyst  \n",
       "3               Technology, Information and Internet   Data Analyst  \n",
       "4  Transportation, Logistics, Supply Chain and St...   Data Analyst  "
      ]
     },
     "execution_count": 13,
     "metadata": {},
     "output_type": "execute_result"
    }
   ],
   "source": [
    "df.head()"
   ]
  },
  {
   "cell_type": "code",
   "execution_count": 14,
   "metadata": {},
   "outputs": [],
   "source": [
    "df.drop('Location', inplace=True, axis=1)\n",
    "df.drop('Description', inplace=True, axis=1)\n",
    "df_clean = df\n",
    "df_clean.columns = ['date', 'company', 'title','city','province','level','type','function','industry','title category']"
   ]
  },
  {
   "cell_type": "code",
   "execution_count": 15,
   "metadata": {},
   "outputs": [
    {
     "data": {
      "text/plain": [
       "29"
      ]
     },
     "execution_count": 15,
     "metadata": {},
     "output_type": "execute_result"
    }
   ],
   "source": [
    "df.duplicated().sum()"
   ]
  },
  {
   "cell_type": "code",
   "execution_count": 16,
   "metadata": {},
   "outputs": [
    {
     "name": "stdout",
     "output_type": "stream",
     "text": [
      "done\n"
     ]
    }
   ],
   "source": [
    "df = df.drop_duplicates()\n",
    "print('done')"
   ]
  },
  {
   "cell_type": "code",
   "execution_count": 17,
   "metadata": {},
   "outputs": [
    {
     "data": {
      "text/plain": [
       "title category\n",
       "False    704\n",
       "True     265\n",
       "Name: count, dtype: int64"
      ]
     },
     "execution_count": 17,
     "metadata": {},
     "output_type": "execute_result"
    }
   ],
   "source": [
    "df_da = df['title category']=='Data Analyst'\n",
    "df_da.value_counts()"
   ]
  },
  {
   "cell_type": "code",
   "execution_count": 18,
   "metadata": {},
   "outputs": [
    {
     "data": {
      "image/png": "[encoded data removed]",
      "text/plain": [
       "<Figure size 640x480 with 1 Axes>"
      ]
     },
     "metadata": {},
     "output_type": "display_data"
    }
   ],
   "source": [
    "df['Month'] = df['date'].dt.month\n",
    "df_da = df[df['title category']=='Data Analyst'] # filtering data analyst\n",
    "job_monthly = df_da.groupby(['Month']).size().reset_index(name='Count') # count data analyst per month\n",
    "\n",
    "sns.set(style=\"ticks\")\n",
    "plt.plot(job_monthly['Month'].astype(str), job_monthly['Count'], marker='o', linestyle='-', color='orange', label='Job Data Analyst')\n",
    "for i, count in enumerate(job_monthly['Count']):\n",
    "    plt.text(i, count, str(count), ha='center', va='bottom')\n",
    "\n",
    "plt.yticks([]) # remove y label\n",
    "\n",
    "plt.xticks(range(0, 8), ['Mar', 'Apr', 'May', 'Jun', 'Jul', 'Aug', 'Sep', 'Oct'])\n",
    "plt.legend()\n",
    "plt.show()"
   ]
  },
  {
   "cell_type": "markdown",
   "metadata": {},
   "source": [
    "### 4. Export data to output"
   ]
  },
  {
   "cell_type": "code",
   "execution_count": 19,
   "metadata": {},
   "outputs": [],
   "source": [
    "output_file_path_excel = \"C:\\\\Users\\\\Alvin\\\\Documents\\\\Output\\\\DataCleansing.xlsx\"\n",
    "output_file_path_csv = \"C:\\\\Users\\\\Alvin\\\\Documents\\\\Output\\\\DataCleansing.csv\"\n",
    "df.to_excel(output_file_path_excel, index = False)\n",
    "df.to_csv(output_file_path_csv, sep = '$', index = False)"
   ]
  }
 ],
 "metadata": {
  "kernelspec": {
   "display_name": "PIP",
   "language": "python",
   "name": "pip"
  },
  "language_info": {
   "codemirror_mode": {
    "name": "ipython",
    "version": 3
   },
   "file_extension": ".py",
   "mimetype": "text/x-python",
   "name": "python",
   "nbconvert_exporter": "python",
   "pygments_lexer": "ipython3",
   "version": "3.11.4"
  }
 },
 "nbformat": 4,
 "nbformat_minor": 4
}
